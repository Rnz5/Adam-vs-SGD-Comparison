{
  "nbformat": 4,
  "nbformat_minor": 0,
  "metadata": {
    "colab": {
      "provenance": []
    },
    "kernelspec": {
      "name": "python3",
      "display_name": "Python 3"
    },
    "language_info": {
      "name": "python"
    }
  },
  "cells": [
    {
      "cell_type": "code",
      "execution_count": 22,
      "metadata": {
        "id": "fCon0pgf7nBu"
      },
      "outputs": [],
      "source": [
        "import tensorflow as tf\n",
        "from tensorflow import keras\n",
        "import numpy as np\n",
        "import time\n",
        "import os"
      ]
    },
    {
      "cell_type": "markdown",
      "source": [
        "- tensorflow/keras: Para construir y entrenar redes neuronales\n",
        "- numpy: Para operaciones matemáticas con arrays\n",
        "- time: Para medir duración del entrenamiento\n",
        "- os: Para operaciones del sistema de archivos\n"
      ],
      "metadata": {
        "id": "WH4wHbNz7yFb"
      }
    },
    {
      "cell_type": "code",
      "source": [
        "configuracion_inicial = {\n",
        "    'batch_size': 32,\n",
        "    'epocas': 10,\n",
        "    'split_validacion': 0.2,\n",
        "    'r_seed': 42\n",
        "}\n"
      ],
      "metadata": {
        "id": "QLwy3d3Z8SWM"
      },
      "execution_count": 23,
      "outputs": []
    },
    {
      "cell_type": "markdown",
      "source": [
        "**configuracion_inicial**: Diccionario con parámetros fijos para todos los experimentos\n",
        "\n",
        "- **batch_size**: Cada 32 imagenes procesadas, se calcula el error promedio y se ajustan los pesos. Los pesos son parametros internos de la red neuronal que determinan su importancia\n",
        "\n",
        "- **epocas**: Número de veces que el algoritmo pasa por el dataset completo\n",
        "\n",
        "- **split_validacion**: Fracción del dataset que se separa para validación. La validación sirve para evaluar el modelo en datos no vistos durante el entrenamiento y evitar que memorize los datos del entrenamiento.\n",
        "\n",
        "- **r_seed**: Semilla para generar numeros aleatorios. Iniciliza los pesos, podria ser cualquier número.\n",
        "\n",
        "\n",
        "---\n",
        "\n",
        "\n",
        "Imágenes de entrenamiento: 48,000 (después de split_validacion: 20%)\n",
        "\n",
        "batch_size: 32\n",
        "\n",
        "Batches por epoca: 48,000 ÷ 32 = 1,500 batches\n",
        "\n",
        "Actualizaciones por epoca: 1,500 actualizaciones de pesos\n",
        "\n",
        "epocas: 10\n",
        "\n",
        "Actualizaciones totales: 1,500 × 10 = 15,000 actualizaciones\n",
        "\n"
      ],
      "metadata": {
        "id": "uzQN0Loh-Gya"
      }
    },
    {
      "cell_type": "code",
      "source": [
        "configuracion_de_optimizadores = {\n",
        "    'SGD': {\n",
        "        'class': keras.optimizers.SGD,\n",
        "        'params': {'learning_rate': 0.01}  # Tamaño del paso para actualizar pesos\n",
        "    },\n",
        "    'Adam': {\n",
        "        'class': keras.optimizers.Adam,\n",
        "        'params': {'learning_rate': 0.001}  # Tasa de aprendizaje más pequeña\n",
        "    }\n",
        "}\n"
      ],
      "metadata": {
        "id": "VFDo0DmKA3Pz"
      },
      "execution_count": 24,
      "outputs": []
    },
    {
      "cell_type": "markdown",
      "source": [
        "SGD: Primer optimizador: Stochastic Gradient Descent\n",
        "\n",
        "Adam: Segundo optimizador: Adaptive Moment Estimation\n",
        "\n",
        "\n",
        "\n",
        "\n",
        "---\n",
        "\n",
        "\n",
        "\n",
        "\n",
        "DIFERENCIA ENTRE SGD Y ADAM:\n",
        "\n",
        "- SGD con learning_rate=0.01:\n",
        "\n",
        "- Pasos más grandes: 0.01 es relativamente grande\n",
        "\n",
        "- Actualizaciones más agresivas: Los pesos cambian más en cada paso\n",
        "\n",
        "- Razón: SGD es un algoritmo simple que necesita pasos más grandes para converger\n",
        "\n",
        "- Adam con learning_rate=0.001:\n",
        "\n",
        "- Pasos más pequeños: 0.001 es 10 veces más pequeño que SGD\n",
        "\n",
        "- Actualizaciones más conservadoras: Los pesos cambian menos en cada paso\n",
        "\n",
        "- Razón: Adam es más inteligente y se adapta automáticamente, por eso funciona mejor con pasos pequeños\n",
        "\n",
        "\n",
        "\n"
      ],
      "metadata": {
        "id": "T9lGZRJVDn2r"
      }
    },
    {
      "cell_type": "code",
      "source": [
        "def cargar_datos():\n",
        "\n",
        "    # Descarga\n",
        "    (x_train, y_train), (x_test, y_test) = keras.datasets.mnist.load_data()\n",
        "\n",
        "    #Normalización\n",
        "    x_train = x_train.astype('float32') / 255.0\n",
        "    x_test = x_test.astype('float32') / 255.0\n",
        "\n",
        "    # Dimensionar\n",
        "    x_train = x_train.reshape(-1, 28, 28, 1)\n",
        "    x_test = x_test.reshape(-1, 28, 28, 1)\n",
        "\n",
        "    return (x_train, y_train), (x_test, y_test)\n",
        "\n",
        "# Guardar datos\n",
        "(x_train, y_train), (x_test, y_test) = cargar_datos()"
      ],
      "metadata": {
        "collapsed": true,
        "id": "aVxYvYqiDoGp"
      },
      "execution_count": 25,
      "outputs": []
    },
    {
      "cell_type": "markdown",
      "source": [
        "**¿Como funciona la \"Descarga\"?**\n",
        "\n",
        "x_train: 60,000 imágenes de entrenamiento (28x28 píxeles)\n",
        "\n",
        "y_train: 60,000 etiquetas (números del 0-9) que indican qué dígito es cada imagen\n",
        "\n",
        "x_test: 10,000 imágenes para testing\n",
        "\n",
        "y_test: 10,000 etiquetas para testing\n",
        "\n",
        "\n",
        "\n",
        "---\n",
        "\n",
        "**¿Como funciona la \"Normalizacion\"?**\n",
        "\n",
        "Se convierten los valores enteros (0-255) a decimales y luego se dividen en 255 para que se encuentren en el rango de 0-1.\n",
        "Esto se hace porque las redes neuronales aprenden mejor con valores pequeños.\n",
        "\n",
        "\n",
        "\n",
        "---\n",
        "\n",
        "**¿Como funciona el apartado de \"Dimensionar\"?**\n",
        "El codigo cambia la forma de los arrays para que sean compatibles con capas convolucionales\n",
        "\n",
        "Forma original: (60000, 28, 28) - 60,000 imágenes de 28×28 píxeles\n",
        "\n",
        "Forma nueva: (60000, 28, 28, 1) - 60,000 imágenes de 28×28×1 píxeles\n",
        "\n",
        "**El 1 final** le dice a la red neuronal que las imagenes son en blanco y negro, no en escala RGB, cada pixel tiene una escala de brillo en la escala de grises. Keras requiere esto.\n",
        "\n",
        "\n",
        "\n",
        "---\n",
        "\n",
        "**Guardado de datos**\n",
        "Se guardan los datos en variables\n",
        "\n",
        "x_train: Las imágenes para entrenar (60,000)\n",
        "\n",
        "y_train: Las respuestas correctas de las imágenes de entrenamiento\n",
        "\n",
        "x_test: Las imágenes para probar (10,000)\n",
        "\n",
        "y_test: Las respuestas correctas de las imágenes de prueba"
      ],
      "metadata": {
        "id": "JwXEipbNKMCh"
      }
    },
    {
      "cell_type": "code",
      "source": [
        "def crear_modelo():\n",
        "\n",
        "    model = keras.Sequential([\n",
        "        # CAPA 1: Convolucional (Conv2D)\n",
        "        keras.layers.Conv2D(\n",
        "            filters=32,\n",
        "            kernel_size=(3, 3),\n",
        "            activation='relu',\n",
        "            input_shape=(28, 28, 1)\n",
        "        ),\n",
        "\n",
        "        # CAPA 2: MAX Pooling\n",
        "        keras.layers.MaxPooling2D(pool_size=(2, 2)),\n",
        "\n",
        "        # CAPA 3: Convolucional 2da Capa\n",
        "        keras.layers.Conv2D(\n",
        "            filters=64,\n",
        "            kernel_size=(3, 3),\n",
        "            activation='relu'\n",
        "        ),\n",
        "\n",
        "        # CAPA 4: MAX Pooling 2da Capa\n",
        "        keras.layers.MaxPooling2D(pool_size=(2, 2)),\n",
        "\n",
        "        # CAPA 5: Aplanar\n",
        "        keras.layers.Flatten(),\n",
        "\n",
        "        # CAPA 6: Densa\n",
        "        keras.layers.Dense(128, activation='relu'),\n",
        "\n",
        "        # CAPA 7: Salida\n",
        "        keras.layers.Dense(10, activation='softmax')\n",
        "    ])\n",
        "\n",
        "    return model\n",
        "\n",
        "EjemploModelo = crear_modelo()\n",
        "EjemploModelo.summary()"
      ],
      "metadata": {
        "colab": {
          "base_uri": "https://localhost:8080/",
          "height": 367
        },
        "id": "sPdeZYFINHQy",
        "outputId": "db66a951-9429-4418-967d-04c36bd6c376"
      },
      "execution_count": 26,
      "outputs": [
        {
          "output_type": "display_data",
          "data": {
            "text/plain": [
              "\u001b[1mModel: \"sequential_4\"\u001b[0m\n"
            ],
            "text/html": [
              "<pre style=\"white-space:pre;overflow-x:auto;line-height:normal;font-family:Menlo,'DejaVu Sans Mono',consolas,'Courier New',monospace\"><span style=\"font-weight: bold\">Model: \"sequential_4\"</span>\n",
              "</pre>\n"
            ]
          },
          "metadata": {}
        },
        {
          "output_type": "display_data",
          "data": {
            "text/plain": [
              "┏━━━━━━━━━━━━━━━━━━━━━━━━━━━━━━━━━┳━━━━━━━━━━━━━━━━━━━━━━━━┳━━━━━━━━━━━━━━━┓\n",
              "┃\u001b[1m \u001b[0m\u001b[1mLayer (type)                   \u001b[0m\u001b[1m \u001b[0m┃\u001b[1m \u001b[0m\u001b[1mOutput Shape          \u001b[0m\u001b[1m \u001b[0m┃\u001b[1m \u001b[0m\u001b[1m      Param #\u001b[0m\u001b[1m \u001b[0m┃\n",
              "┡━━━━━━━━━━━━━━━━━━━━━━━━━━━━━━━━━╇━━━━━━━━━━━━━━━━━━━━━━━━╇━━━━━━━━━━━━━━━┩\n",
              "│ conv2d_8 (\u001b[38;5;33mConv2D\u001b[0m)               │ (\u001b[38;5;45mNone\u001b[0m, \u001b[38;5;34m26\u001b[0m, \u001b[38;5;34m26\u001b[0m, \u001b[38;5;34m32\u001b[0m)     │           \u001b[38;5;34m320\u001b[0m │\n",
              "├─────────────────────────────────┼────────────────────────┼───────────────┤\n",
              "│ max_pooling2d_8 (\u001b[38;5;33mMaxPooling2D\u001b[0m)  │ (\u001b[38;5;45mNone\u001b[0m, \u001b[38;5;34m13\u001b[0m, \u001b[38;5;34m13\u001b[0m, \u001b[38;5;34m32\u001b[0m)     │             \u001b[38;5;34m0\u001b[0m │\n",
              "├─────────────────────────────────┼────────────────────────┼───────────────┤\n",
              "│ conv2d_9 (\u001b[38;5;33mConv2D\u001b[0m)               │ (\u001b[38;5;45mNone\u001b[0m, \u001b[38;5;34m11\u001b[0m, \u001b[38;5;34m11\u001b[0m, \u001b[38;5;34m64\u001b[0m)     │        \u001b[38;5;34m18,496\u001b[0m │\n",
              "├─────────────────────────────────┼────────────────────────┼───────────────┤\n",
              "│ max_pooling2d_9 (\u001b[38;5;33mMaxPooling2D\u001b[0m)  │ (\u001b[38;5;45mNone\u001b[0m, \u001b[38;5;34m5\u001b[0m, \u001b[38;5;34m5\u001b[0m, \u001b[38;5;34m64\u001b[0m)       │             \u001b[38;5;34m0\u001b[0m │\n",
              "├─────────────────────────────────┼────────────────────────┼───────────────┤\n",
              "│ flatten_4 (\u001b[38;5;33mFlatten\u001b[0m)             │ (\u001b[38;5;45mNone\u001b[0m, \u001b[38;5;34m1600\u001b[0m)           │             \u001b[38;5;34m0\u001b[0m │\n",
              "├─────────────────────────────────┼────────────────────────┼───────────────┤\n",
              "│ dense_8 (\u001b[38;5;33mDense\u001b[0m)                 │ (\u001b[38;5;45mNone\u001b[0m, \u001b[38;5;34m128\u001b[0m)            │       \u001b[38;5;34m204,928\u001b[0m │\n",
              "├─────────────────────────────────┼────────────────────────┼───────────────┤\n",
              "│ dense_9 (\u001b[38;5;33mDense\u001b[0m)                 │ (\u001b[38;5;45mNone\u001b[0m, \u001b[38;5;34m10\u001b[0m)             │         \u001b[38;5;34m1,290\u001b[0m │\n",
              "└─────────────────────────────────┴────────────────────────┴───────────────┘\n"
            ],
            "text/html": [
              "<pre style=\"white-space:pre;overflow-x:auto;line-height:normal;font-family:Menlo,'DejaVu Sans Mono',consolas,'Courier New',monospace\">┏━━━━━━━━━━━━━━━━━━━━━━━━━━━━━━━━━┳━━━━━━━━━━━━━━━━━━━━━━━━┳━━━━━━━━━━━━━━━┓\n",
              "┃<span style=\"font-weight: bold\"> Layer (type)                    </span>┃<span style=\"font-weight: bold\"> Output Shape           </span>┃<span style=\"font-weight: bold\">       Param # </span>┃\n",
              "┡━━━━━━━━━━━━━━━━━━━━━━━━━━━━━━━━━╇━━━━━━━━━━━━━━━━━━━━━━━━╇━━━━━━━━━━━━━━━┩\n",
              "│ conv2d_8 (<span style=\"color: #0087ff; text-decoration-color: #0087ff\">Conv2D</span>)               │ (<span style=\"color: #00d7ff; text-decoration-color: #00d7ff\">None</span>, <span style=\"color: #00af00; text-decoration-color: #00af00\">26</span>, <span style=\"color: #00af00; text-decoration-color: #00af00\">26</span>, <span style=\"color: #00af00; text-decoration-color: #00af00\">32</span>)     │           <span style=\"color: #00af00; text-decoration-color: #00af00\">320</span> │\n",
              "├─────────────────────────────────┼────────────────────────┼───────────────┤\n",
              "│ max_pooling2d_8 (<span style=\"color: #0087ff; text-decoration-color: #0087ff\">MaxPooling2D</span>)  │ (<span style=\"color: #00d7ff; text-decoration-color: #00d7ff\">None</span>, <span style=\"color: #00af00; text-decoration-color: #00af00\">13</span>, <span style=\"color: #00af00; text-decoration-color: #00af00\">13</span>, <span style=\"color: #00af00; text-decoration-color: #00af00\">32</span>)     │             <span style=\"color: #00af00; text-decoration-color: #00af00\">0</span> │\n",
              "├─────────────────────────────────┼────────────────────────┼───────────────┤\n",
              "│ conv2d_9 (<span style=\"color: #0087ff; text-decoration-color: #0087ff\">Conv2D</span>)               │ (<span style=\"color: #00d7ff; text-decoration-color: #00d7ff\">None</span>, <span style=\"color: #00af00; text-decoration-color: #00af00\">11</span>, <span style=\"color: #00af00; text-decoration-color: #00af00\">11</span>, <span style=\"color: #00af00; text-decoration-color: #00af00\">64</span>)     │        <span style=\"color: #00af00; text-decoration-color: #00af00\">18,496</span> │\n",
              "├─────────────────────────────────┼────────────────────────┼───────────────┤\n",
              "│ max_pooling2d_9 (<span style=\"color: #0087ff; text-decoration-color: #0087ff\">MaxPooling2D</span>)  │ (<span style=\"color: #00d7ff; text-decoration-color: #00d7ff\">None</span>, <span style=\"color: #00af00; text-decoration-color: #00af00\">5</span>, <span style=\"color: #00af00; text-decoration-color: #00af00\">5</span>, <span style=\"color: #00af00; text-decoration-color: #00af00\">64</span>)       │             <span style=\"color: #00af00; text-decoration-color: #00af00\">0</span> │\n",
              "├─────────────────────────────────┼────────────────────────┼───────────────┤\n",
              "│ flatten_4 (<span style=\"color: #0087ff; text-decoration-color: #0087ff\">Flatten</span>)             │ (<span style=\"color: #00d7ff; text-decoration-color: #00d7ff\">None</span>, <span style=\"color: #00af00; text-decoration-color: #00af00\">1600</span>)           │             <span style=\"color: #00af00; text-decoration-color: #00af00\">0</span> │\n",
              "├─────────────────────────────────┼────────────────────────┼───────────────┤\n",
              "│ dense_8 (<span style=\"color: #0087ff; text-decoration-color: #0087ff\">Dense</span>)                 │ (<span style=\"color: #00d7ff; text-decoration-color: #00d7ff\">None</span>, <span style=\"color: #00af00; text-decoration-color: #00af00\">128</span>)            │       <span style=\"color: #00af00; text-decoration-color: #00af00\">204,928</span> │\n",
              "├─────────────────────────────────┼────────────────────────┼───────────────┤\n",
              "│ dense_9 (<span style=\"color: #0087ff; text-decoration-color: #0087ff\">Dense</span>)                 │ (<span style=\"color: #00d7ff; text-decoration-color: #00d7ff\">None</span>, <span style=\"color: #00af00; text-decoration-color: #00af00\">10</span>)             │         <span style=\"color: #00af00; text-decoration-color: #00af00\">1,290</span> │\n",
              "└─────────────────────────────────┴────────────────────────┴───────────────┘\n",
              "</pre>\n"
            ]
          },
          "metadata": {}
        },
        {
          "output_type": "display_data",
          "data": {
            "text/plain": [
              "\u001b[1m Total params: \u001b[0m\u001b[38;5;34m225,034\u001b[0m (879.04 KB)\n"
            ],
            "text/html": [
              "<pre style=\"white-space:pre;overflow-x:auto;line-height:normal;font-family:Menlo,'DejaVu Sans Mono',consolas,'Courier New',monospace\"><span style=\"font-weight: bold\"> Total params: </span><span style=\"color: #00af00; text-decoration-color: #00af00\">225,034</span> (879.04 KB)\n",
              "</pre>\n"
            ]
          },
          "metadata": {}
        },
        {
          "output_type": "display_data",
          "data": {
            "text/plain": [
              "\u001b[1m Trainable params: \u001b[0m\u001b[38;5;34m225,034\u001b[0m (879.04 KB)\n"
            ],
            "text/html": [
              "<pre style=\"white-space:pre;overflow-x:auto;line-height:normal;font-family:Menlo,'DejaVu Sans Mono',consolas,'Courier New',monospace\"><span style=\"font-weight: bold\"> Trainable params: </span><span style=\"color: #00af00; text-decoration-color: #00af00\">225,034</span> (879.04 KB)\n",
              "</pre>\n"
            ]
          },
          "metadata": {}
        },
        {
          "output_type": "display_data",
          "data": {
            "text/plain": [
              "\u001b[1m Non-trainable params: \u001b[0m\u001b[38;5;34m0\u001b[0m (0.00 B)\n"
            ],
            "text/html": [
              "<pre style=\"white-space:pre;overflow-x:auto;line-height:normal;font-family:Menlo,'DejaVu Sans Mono',consolas,'Courier New',monospace\"><span style=\"font-weight: bold\"> Non-trainable params: </span><span style=\"color: #00af00; text-decoration-color: #00af00\">0</span> (0.00 B)\n",
              "</pre>\n"
            ]
          },
          "metadata": {}
        }
      ]
    },
    {
      "cell_type": "markdown",
      "source": [
        "Esta función construye una red neuronal convolucional (CNN) específicamente diseñada para clasificar imágenes de dígitos escritos a mano del dataset MNIST\n",
        "\n",
        "\n"
      ],
      "metadata": {
        "id": "eRZjWAkfPGxh"
      }
    },
    {
      "cell_type": "markdown",
      "source": [
        "# **CAPA 1: Convolucional (Conv2D)**\n",
        "\n",
        "\n",
        "- Aplica 32 filtros diferentes sobre la imagen\n",
        "\n",
        "- Cada filtro es una matriz de 3×3 píxeles que se desliza por toda la imagen\n",
        "\n",
        "- Detecta características locales como bordes, esquinas, curvas\n",
        "\n",
        "**Parámetros específicos:**\n",
        "\n",
        "filters=32: Crea 32 mapas de características diferentes\n",
        "\n",
        "kernel_size=(3, 3): Cada filtro examina áreas de 3×3 píxeles\n",
        "\n",
        "activation='relu': Función que devuelve el valor si es positivo, 0 si es negativo\n",
        "\n",
        "input_shape=(28, 28, 1): Especifica que entran imágenes 28×28 en escala de grises\n"
      ],
      "metadata": {
        "id": "IRHacbkrapPs"
      }
    },
    {
      "cell_type": "markdown",
      "source": [
        "#**CAPA 2: Max Pooling**\n",
        "\n",
        "\n",
        "- Reduce la dimensionalidad tomando el valor máximo en ventanas de 2×2\n",
        "\n",
        "- Transforma imágenes de 28×28 a 14×14\n",
        "\n",
        "- Mantiene las características más importantes mientras reduce el tamaño\n",
        "\n"
      ],
      "metadata": {
        "id": "jItWHL8OaqUb"
      }
    },
    {
      "cell_type": "markdown",
      "source": [
        "#**CAPA 3: Convolucional (Segunda capa)**\n",
        "\n",
        "\n",
        "- Aplica 64 filtros sobre los mapas de características de la capa anterior\n",
        "\n",
        "- Detecta patrones más complejos combinando características simples\n",
        "\n",
        "\n"
      ],
      "metadata": {
        "id": "osO-RChYa1aa"
      }
    },
    {
      "cell_type": "markdown",
      "source": [
        "#**CAPA 4: Max Pooling (Segunda capa)**\n",
        "\n",
        "\n",
        "- Reduce de 14×14 a 7×7\n"
      ],
      "metadata": {
        "id": "dmTf6vjtbLGk"
      }
    },
    {
      "cell_type": "markdown",
      "source": [
        "#**CAPA 5: Aplanar**\n",
        "\n",
        "- Convierte la salida 3D (7, 7, 64) en un vector 1D de 3,136 elementos\n",
        "\n",
        "- Prepara los datos para las capas densas (completamente conectadas)\n",
        "\n",
        "- Sin esta capa, las capas densas no podrían procesar los datos\n"
      ],
      "metadata": {
        "id": "Ppz1_HDtbRxb"
      }
    },
    {
      "cell_type": "markdown",
      "source": [
        "#**CAPA 6: Densa**\n",
        "\n",
        "- 128 neuronas donde cada una se conecta a todas las 3,136 entradas\n",
        "\n",
        "- Combina todas las características extraídas por las capas convolucionales\n",
        "\n",
        "- Aprende relaciones complejas entre las diferentes características"
      ],
      "metadata": {
        "id": "P9-lWsDMbb0r"
      }
    },
    {
      "cell_type": "markdown",
      "source": [
        "#**CAPA 7: Salida (Output)**\n",
        "\n",
        "- 10 neuronas de salida - una para cada dígito posible (0-9)\n",
        "\n",
        "- activation='softmax': Convierte las salidas en probabilidades que suman 1.0\n",
        "\n",
        "Ejemplo: [0.02, 0.85, 0.01, 0.03, 0.02, 0.01, 0.02, 0.01, 0.02, 0.01] = 85% de probabilidad de que sea el dígito \"1\"\n"
      ],
      "metadata": {
        "id": "TX65aMdDblCb"
      }
    },
    {
      "cell_type": "code",
      "source": [
        "def entrenar_optimizador(nombre_optimizador, optimizador):\n",
        "\n",
        "    #Creacion\n",
        "    model = crear_modelo()\n",
        "\n",
        "    #Configuracion\n",
        "    model.compile(\n",
        "        optimizer=optimizador,\n",
        "        loss='sparse_categorical_crossentropy',\n",
        "        metrics=['accuracy']\n",
        "    )\n",
        "\n",
        "    # Tiempos\n",
        "    TiempoInicio = time.time()\n",
        "\n",
        "    #Entrenamiento\n",
        "    historial = model.fit(\n",
        "        x_train,\n",
        "        y_train,\n",
        "        epochs=configuracion_inicial['epocas'],\n",
        "        batch_size=configuracion_inicial['batch_size'],\n",
        "        validation_split=configuracion_inicial['split_validacion'],\n",
        "        verbose=0,\n",
        "        shuffle=True\n",
        "    )\n",
        "\n",
        "    #Calculo del tiempo\n",
        "    TiempoTotal = time.time() - TiempoInicio\n",
        "\n",
        "    # Resultados\n",
        "    resultados = {\n",
        "        'nombre': nombre_optimizador,\n",
        "        'historial': historial.history,\n",
        "        'tiempo_segundos': TiempoTotal,\n",
        "        'modelo': model\n",
        "    }\n",
        "\n",
        "    #Informacion\n",
        "    print(f\" {nombre_optimizador} completado\")\n",
        "    print(f\"   Tiempo: {TiempoTotal:.2f} segundos\")\n",
        "    print(f\"   Precisión final: {historial.history['val_accuracy'][-1]:.4f}\")\n",
        "\n",
        "    return resultados\n"
      ],
      "metadata": {
        "id": "Efi1jScjcjME"
      },
      "execution_count": 27,
      "outputs": []
    },
    {
      "cell_type": "markdown",
      "source": [
        "Esta función entrena una red neuronal completa usando un optimizador específico (SGD o Adam) y devuelve todos los resultados del entrenamiento para su análisis\n",
        "\n"
      ],
      "metadata": {
        "id": "fLmodq_Kc8JT"
      }
    },
    {
      "cell_type": "markdown",
      "source": [
        "**Parametros de entrada**\n",
        "\n",
        "- **nombre_optimizador**: String con el nombre (\"SGD\" o \"Adam\") para identificar el experimento\n",
        "\n",
        "- **optimizador**: Objeto de Keras que contiene el algoritmo de optimización configurado\n",
        "\n"
      ],
      "metadata": {
        "id": "vzT-_wDPdE6K"
      }
    },
    {
      "cell_type": "markdown",
      "source": [
        "#**Configuracion**\n",
        "\n",
        "**optimizer=optimizador:**\n",
        "\n",
        "- Configura el algoritmo de optimización que ajustará los pesos\n",
        "\n",
        "- Puede ser SGD, Adam, u otro definido en \"\"configuracion_de_optimizadores\"\"\n",
        "\n",
        "\n",
        "---\n",
        "\n",
        "\n",
        "**loss='sparse_categorical_crossentropy':**\n",
        "\n",
        "- Función de perdida que mide que tan incorrectas son las predicciones\n",
        "\n",
        "- Mientras mas baja sea la perdida, mejor sera el modelo\n",
        "\n",
        "\n",
        "\n",
        "---\n",
        "\n",
        "\n",
        "**metrics=['accuracy']:**\n",
        "\n",
        "- Métrica de evaluación: % de predicciones correctas\n",
        "\n",
        "- Se calcula como: (Numero de aciertos / todas las muestras) × 100"
      ],
      "metadata": {
        "id": "V7VNCEPHeZ3q"
      }
    },
    {
      "cell_type": "markdown",
      "source": [
        "#**Tiempos**\n",
        "\n",
        "Toma una marca de tiempo antes de comenzar el entrenamiento y permite calcular cuanto ha pasado desde que se inicio el proceso."
      ],
      "metadata": {
        "id": "K8UL6JqJfRKy"
      }
    },
    {
      "cell_type": "markdown",
      "source": [
        "#**Entrenamiento**\n",
        "\n",
        "**x_train, y_train:\n",
        "\n",
        "Datos de entrenamiento: 60,000 imágenes y sus etiquetas correctas\n",
        "\n",
        "\n",
        "---\n",
        "\n",
        "\n",
        "**epocas=10:**\n",
        "\n",
        "- Cantidad de vueltas completas por todo el dataset de entrenamiento\n",
        "\n",
        "- En cada época, el modelo \"revisa\" todas las imágenes una vez\n",
        "\n",
        "\n",
        "---\n",
        "\n",
        "\n",
        "**batch_size=32:**\n",
        "\n",
        "- Cantidad de imágenes procesadas antes de cada actualización de los pesos\n",
        "\n",
        "- 48,000 imágenes ÷ 32 = 1,500 actualizaciones por epoca\n",
        "\n",
        "\n",
        "\n",
        "---\n",
        "\n",
        "\n",
        "**split_validacion=0.2:**\n",
        "\n",
        "- Separa automáticamente 20% de los datos para validación\n",
        "\n",
        "- 48,000 imágenes para entrenamiento, 12,000 para validación\n",
        "\n",
        "\n",
        "---\n",
        "\n",
        "\n",
        "**verbose=0:**\n",
        "\n",
        "- Funcion para desactivar cualquier output DURANTE el entrenamiento\n",
        "\n",
        "\n",
        "---\n",
        "\n",
        "**shuffle=True:**\n",
        "\n",
        "- Mezcla los datos antes de cada epoca para evitar que el modelo aprenda patrones en el orden de los datos"
      ],
      "metadata": {
        "id": "abcuNZldfjK5"
      }
    },
    {
      "cell_type": "markdown",
      "source": [],
      "metadata": {
        "id": "yLMRC0zcg4j6"
      }
    },
    {
      "cell_type": "markdown",
      "source": [
        "#**Calculo del tiempo**\n",
        "- Toma la marca de tiempo actual y resta la del tiempo inicial lo cual nos resulta en cuanto tiempo demoro el entrenamiento en segundos"
      ],
      "metadata": {
        "id": "IWw4vaXChBxS"
      }
    },
    {
      "cell_type": "markdown",
      "source": [
        "#**Resultados**\n",
        "**historial.history**\n",
        "\n",
        "- **accuracy**: Precisión en entrenamiento por cada epoca\n",
        "\n",
        "- **val_accuracy**: Precisión en la etapa de validacion por cada epoca\n",
        "\n",
        "- loss: Perdida en entrenamiento por cada epoca\n",
        "\n",
        "- val_loss: Perdida en validación por cada época\n",
        "\n",
        "**modelo**:\n",
        "\n",
        "- Se guarda el modelo completo"
      ],
      "metadata": {
        "id": "4k7RK1HOhZUp"
      }
    },
    {
      "cell_type": "markdown",
      "source": [
        "#**Informacion**\n",
        "\n",
        "- Nombre del optimizador\n",
        "\n",
        "- Tiempo total en segundos con 2 decimales\n",
        "\n",
        "- Precisión final en validación de la ultima epoca con 4 decimales\n",
        "\n"
      ],
      "metadata": {
        "id": "FZ0eCrMljzJq"
      }
    },
    {
      "cell_type": "code",
      "source": [
        "def comparar_optimizadores():\n",
        "\n",
        "    #Inicilizacion\n",
        "    resultados = {}\n",
        "\n",
        "    #Iteraciones sobre optimizadores\n",
        "    for nombre, config in configuracion_de_optimizadores.items():\n",
        "\n",
        "        #Creacion de optimizadores\n",
        "        optimizador = config['class'](**config['params'])\n",
        "\n",
        "        #Entrenamiento\n",
        "        resultado = entrenar_optimizador(nombre, optimizador)\n",
        "\n",
        "        #Guardado\n",
        "        resultados[nombre] = resultado\n",
        "\n",
        "    return resultados\n",
        "\n",
        "#Resultados\n",
        "resultados_comparacion = comparar_optimizadores()"
      ],
      "metadata": {
        "id": "zzG1NJExkTbp",
        "colab": {
          "base_uri": "https://localhost:8080/"
        },
        "outputId": "34f565d2-a7ed-4a12-daed-6ba883877948"
      },
      "execution_count": 28,
      "outputs": [
        {
          "output_type": "stream",
          "name": "stdout",
          "text": [
            " SGD completado\n",
            "   Tiempo: 666.43 segundos\n",
            "   Precisión final: 0.9835\n",
            " Adam completado\n",
            "   Tiempo: 538.03 segundos\n",
            "   Precisión final: 0.9908\n"
          ]
        }
      ]
    },
    {
      "cell_type": "markdown",
      "source": [
        "Ejecuta la comparación completa entre SGD y Adam entrenando un modelo con cada optimizador bajo las mismas condiciones."
      ],
      "metadata": {
        "id": "JcAGCt3j6bCX"
      }
    },
    {
      "cell_type": "markdown",
      "source": [
        "#**Inicilizacion**\n",
        "- Crea un diccionario vacío para almacenar todos los resultados"
      ],
      "metadata": {
        "id": "0p2X7KWK6eg2"
      }
    },
    {
      "cell_type": "markdown",
      "source": [
        "#**Iteraciones sobre optimizadores**\n",
        "- Recorre cada optimizador definido en la configuración (SGD y Adam)"
      ],
      "metadata": {
        "id": "ByHlu0Qi6_rP"
      }
    },
    {
      "cell_type": "markdown",
      "source": [
        "#**Creacion de optimizadores**\n",
        "\n",
        "- SGD: keras.optimizers.SGD(learning_rate=0.01)\n",
        "\n",
        "- Adam: keras.optimizers.Adam(learning_rate=0.001)\n",
        "\n",
        "Crea la instancia específica con sus parámetros"
      ],
      "metadata": {
        "id": "35UcOCNF7FQg"
      }
    },
    {
      "cell_type": "markdown",
      "source": [
        "#**Entrenamiento**\n",
        "- Llama a la función que entrena el modelo completo\n",
        "\n",
        "- Pasa el nombre (\"SGD\" o \"Adam\") y el optimizador configurado"
      ],
      "metadata": {
        "id": "KgGkXUC_7MhP"
      }
    },
    {
      "cell_type": "markdown",
      "source": [
        "#**Guardado**\n",
        "- Guarda los resultados de cada optimizador en el diccionario"
      ],
      "metadata": {
        "id": "SVkIf7N77R6P"
      }
    },
    {
      "cell_type": "markdown",
      "source": [
        "#**Resultados**\n",
        "Retorna un diccionario con:\n",
        "\n",
        "- resultados['SGD']: Todos los datos del entrenamiento con SGD\n",
        "\n",
        "- resultados['Adam']: Todos los datos del entrenamiento con Adam"
      ],
      "metadata": {
        "id": "pHHi4wZt7V4G"
      }
    },
    {
      "cell_type": "code",
      "source": [
        "def preparar_datos_para_analisis(resultados):\n",
        "\n",
        "    datos_para_analisis = {}\n",
        "\n",
        "    for nombre, resultado in resultados.items():\n",
        "\n",
        "        datos_para_analisis[nombre] = {\n",
        "            #Estadisticas por epoca\n",
        "            'precision_entrenamiento': resultado['historial']['accuracy'],\n",
        "            'precision_validacion': resultado['historial']['val_accuracy'],\n",
        "            'perdida_entrenamiento': resultado['historial']['loss'],\n",
        "            'perdida_validacion': resultado['historial']['val_loss'],\n",
        "\n",
        "            #Estadisticas especificas\n",
        "            'tiempo_total_segundos': resultado['tiempo_segundos'],\n",
        "            'total_epocas': len(resultado['historial']['accuracy']),\n",
        "\n",
        "            #Optimizador\n",
        "            'nombre_optimizador': nombre,\n",
        "            'configuracion': resultado['modelo'].optimizer.get_config()\n",
        "        }\n",
        "\n",
        "    return datos_para_analisis"
      ],
      "metadata": {
        "id": "yz008btQ7eou"
      },
      "execution_count": 30,
      "outputs": []
    },
    {
      "cell_type": "markdown",
      "source": [
        "Organiza todos los resultados del entrenamiento en un formato estructurado para que se puedan generar gráficos y análisis\n"
      ],
      "metadata": {
        "id": "YF_Q6cnr7t_P"
      }
    },
    {
      "cell_type": "markdown",
      "source": [
        "#**Estadisticas por epoca**\n",
        "- precision_entrenamiento: Precisión en datos de entrenamiento\n",
        "\n",
        "- precision_validacion: Precisión en datos de validación\n",
        "\n",
        "- perdida_entrenamiento: Error en datos de entrenamiento\n",
        "\n",
        "- perdida_validacion: Error en datos de validación"
      ],
      "metadata": {
        "id": "XpcsMo2X70o-"
      }
    },
    {
      "cell_type": "markdown",
      "source": [
        "#**Estadisticas especificas**\n",
        "- tiempo_total_segundos: Duración total del entrenamiento\n",
        "\n",
        "- total_epocas: Número de épocas entrenadas"
      ],
      "metadata": {
        "id": "1NTzkpIN8S9W"
      }
    },
    {
      "cell_type": "markdown",
      "source": [
        "#**Optimizador**\n",
        "- nombre_optimizador: \"SGD\" o \"Adam\"\n",
        "\n",
        "- configuracion: Parametros especificos usados"
      ],
      "metadata": {
        "id": "H5EppVW_8Y3X"
      }
    }
  ]
}